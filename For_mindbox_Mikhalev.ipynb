{
 "cells": [
  {
   "cell_type": "code",
   "execution_count": 1,
   "id": "4f4c72e0",
   "metadata": {},
   "outputs": [],
   "source": [
    "# эта функция считает сумму цифр конкретного индекса\n",
    "def summ(n):\n",
    "    s=0\n",
    "    for i in range(n):\n",
    "        s=s+ n%10\n",
    "        n=n//10\n",
    "    return s"
   ]
  },
  {
   "cell_type": "code",
   "execution_count": 2,
   "id": "6bbc1fc2",
   "metadata": {},
   "outputs": [],
   "source": [
    "def counter(n_customers):\n",
    "    ID=0\n",
    "    ID_count={}\n",
    "    maxn=0\n",
    "# этот цикл накодит максимальную сумму из указазонного промежутка\n",
    "    for i in range(n_customers):\n",
    "        if summ(i)>maxn:\n",
    "            maxn=summ(i)\n",
    "# этот цикл заполняет словарь ключами всех возможных сумм из укказанного проемужатка с первоначальным значением 0\n",
    "    for i in range(maxn+1):\n",
    "        ID_count[i]=0\n",
    "# этот цикл считает количесвто покупателей по сумме их индекса, тоесть считает сколько покупателей в каждой группе\n",
    "    while ID <n_customers:\n",
    "        s=summ(ID)\n",
    "        ID_count[s] = ID_count[s] +1\n",
    "        ID = ID +1\n",
    "    return ID_count"
   ]
  },
  {
   "cell_type": "markdown",
   "id": "476c42b8",
   "metadata": {},
   "source": [
    "Пример работы первой диагностической фукнции(1 столбец- группа, 2 столбец колличество покупателей):"
   ]
  },
  {
   "cell_type": "code",
   "execution_count": 3,
   "id": "63cb8ea1",
   "metadata": {},
   "outputs": [
    {
     "data": {
      "text/plain": [
       "{0: 1,\n",
       " 1: 5,\n",
       " 2: 14,\n",
       " 3: 30,\n",
       " 4: 55,\n",
       " 5: 91,\n",
       " 6: 139,\n",
       " 7: 200,\n",
       " 8: 275,\n",
       " 9: 365,\n",
       " 10: 467,\n",
       " 11: 574,\n",
       " 12: 680,\n",
       " 13: 779,\n",
       " 14: 865,\n",
       " 15: 933,\n",
       " 16: 980,\n",
       " 17: 1003,\n",
       " 18: 998,\n",
       " 19: 963,\n",
       " 20: 902,\n",
       " 21: 822,\n",
       " 22: 729,\n",
       " 23: 629,\n",
       " 24: 528,\n",
       " 25: 429,\n",
       " 26: 337,\n",
       " 27: 255,\n",
       " 28: 185,\n",
       " 29: 130,\n",
       " 30: 88,\n",
       " 31: 57,\n",
       " 32: 35,\n",
       " 33: 20,\n",
       " 34: 10,\n",
       " 35: 4,\n",
       " 36: 1}"
      ]
     },
     "execution_count": 3,
     "metadata": {},
     "output_type": "execute_result"
    }
   ],
   "source": [
    "counter(14578)"
   ]
  },
  {
   "cell_type": "code",
   "execution_count": 4,
   "id": "f85a333d",
   "metadata": {},
   "outputs": [],
   "source": [
    "def counter1(n_customers,n_first_id):\n",
    "    ID=n_first_id\n",
    "    ID_count={}\n",
    "    maxn=0\n",
    "# этот цикл накодит максимальную сумму из указазонного промежутка\n",
    "    for i in range(n_first_id, n_first_id + n_customers):\n",
    "        if summ(i)>maxn:\n",
    "            maxn=summ(i)\n",
    "# этот цикл заполняет словарь ключами всех возможных сумм из укказанного проемужатка с первоначальным значением 0\n",
    "    for i in range(maxn+1):\n",
    "        ID_count[i]=0\n",
    "# этот цикл считает количесвто покупателей по сумме их индекса, тоесть считает сколько покупателей в каждой группе\n",
    "    while ID < n_first_id+ n_customers:\n",
    "        s=summ(ID)\n",
    "        ID_count[s] = ID_count[s] +1\n",
    "        ID = ID +1\n",
    "# этот цикл удаляет группы, в которых нет ни одного покупателя\n",
    "    for i in range(len(ID_count)):\n",
    "        if ID_count[i]==0:\n",
    "            del ID_count[i]\n",
    "    return ID_count"
   ]
  },
  {
   "cell_type": "markdown",
   "id": "c77a5be5",
   "metadata": {},
   "source": [
    "Пример работы второй диагностической фукнции(1 столбец- группа, 2 столбец колличество покупателей):"
   ]
  },
  {
   "cell_type": "code",
   "execution_count": 5,
   "id": "741a2c52",
   "metadata": {},
   "outputs": [
    {
     "data": {
      "text/plain": [
       "{4: 1,\n",
       " 5: 4,\n",
       " 6: 9,\n",
       " 7: 16,\n",
       " 8: 25,\n",
       " 9: 36,\n",
       " 10: 49,\n",
       " 11: 63,\n",
       " 12: 78,\n",
       " 13: 94,\n",
       " 14: 108,\n",
       " 15: 118,\n",
       " 16: 124,\n",
       " 17: 126,\n",
       " 18: 125,\n",
       " 19: 119,\n",
       " 20: 112,\n",
       " 21: 104,\n",
       " 22: 94,\n",
       " 23: 82,\n",
       " 24: 71,\n",
       " 25: 62,\n",
       " 26: 57,\n",
       " 27: 52,\n",
       " 28: 48,\n",
       " 29: 44,\n",
       " 30: 39,\n",
       " 31: 33,\n",
       " 32: 28,\n",
       " 33: 24,\n",
       " 34: 20,\n",
       " 35: 15,\n",
       " 36: 10,\n",
       " 37: 6,\n",
       " 38: 3,\n",
       " 39: 1}"
      ]
     },
     "execution_count": 5,
     "metadata": {},
     "output_type": "execute_result"
    }
   ],
   "source": [
    "counter1(2000,39581)"
   ]
  },
  {
   "cell_type": "code",
   "execution_count": null,
   "id": "557cbb89",
   "metadata": {},
   "outputs": [],
   "source": []
  }
 ],
 "metadata": {
  "kernelspec": {
   "display_name": "Python 3 (ipykernel)",
   "language": "python",
   "name": "python3"
  },
  "language_info": {
   "codemirror_mode": {
    "name": "ipython",
    "version": 3
   },
   "file_extension": ".py",
   "mimetype": "text/x-python",
   "name": "python",
   "nbconvert_exporter": "python",
   "pygments_lexer": "ipython3",
   "version": "3.10.0"
  }
 },
 "nbformat": 4,
 "nbformat_minor": 5
}
